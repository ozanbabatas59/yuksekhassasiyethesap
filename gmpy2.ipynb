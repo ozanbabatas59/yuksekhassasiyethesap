{
  "nbformat": 4,
  "nbformat_minor": 0,
  "metadata": {
    "colab": {
      "provenance": []
    },
    "kernelspec": {
      "name": "python3",
      "display_name": "Python 3"
    },
    "language_info": {
      "name": "python"
    }
  },
  "cells": [
    {
      "cell_type": "code",
      "execution_count": 1,
      "metadata": {
        "colab": {
          "base_uri": "https://localhost:8080/"
        },
        "id": "eVlYWQ07xrOx",
        "outputId": "aa1da57b-2d57-49b4-aebf-dda616a80d6c"
      },
      "outputs": [
        {
          "output_type": "stream",
          "name": "stdout",
          "text": [
            "Collecting gmpy2\n",
            "  Downloading gmpy2-2.2.1-cp311-cp311-manylinux_2_17_x86_64.manylinux2014_x86_64.whl.metadata (2.8 kB)\n",
            "Downloading gmpy2-2.2.1-cp311-cp311-manylinux_2_17_x86_64.manylinux2014_x86_64.whl (1.7 MB)\n",
            "\u001b[2K   \u001b[90m━━━━━━━━━━━━━━━━━━━━━━━━━━━━━━━━━━━━━━━━\u001b[0m \u001b[32m1.7/1.7 MB\u001b[0m \u001b[31m15.1 MB/s\u001b[0m eta \u001b[36m0:00:00\u001b[0m\n",
            "\u001b[?25hInstalling collected packages: gmpy2\n",
            "Successfully installed gmpy2-2.2.1\n"
          ]
        }
      ],
      "source": [
        "pip install gmpy2"
      ]
    },
    {
      "cell_type": "code",
      "source": [
        "import gmpy2\n",
        "\n",
        "# Büyük bir sayı oluşturma\n",
        "a = gmpy2.mpz('123456789123456789123456789123456789123456789123456789123456789123456789123456789123456789123456789123456789123456789123456789123456789123456789123456789123456789123456789123456789123456789123456789123456789123456789123456789123456789123456789123456789123456789123456789123456789123456789123456789123456789123456789123456789')\n",
        "b = gmpy2.mpz('987654321987654321987654321987654321123456789123456789123456789123456789123456789123456789123456789123456789')\n",
        "\n",
        "# Toplama\n",
        "toplam = a + b\n",
        "print(\"Toplama Sonucu:\", toplam)\n",
        "\n",
        "# Çarpma\n",
        "carpma = a * b\n",
        "print(\"Çarpma Sonucu:\", carpma)\n",
        "\n",
        "# Faktöriyel hesaplama\n",
        "faktoriyel = gmpy2.fac(100)\n",
        "print(\"100'ün faktöriyel sonucu:\", faktoriyel)\n"
      ],
      "metadata": {
        "colab": {
          "base_uri": "https://localhost:8080/"
        },
        "id": "m9QURxSazSW7",
        "outputId": "2291d54d-a275-40b8-8048-9c7ebe28501b"
      },
      "execution_count": 7,
      "outputs": [
        {
          "output_type": "stream",
          "name": "stdout",
          "text": [
            "Toplama Sonucu: 123456789123456789123456789123456789123456789123456789123456789123456789123456789123456789123456789123456789123456789123456789123456789123456789123456789123456789123456789123456789123456789123456789123456789123456790111111111111111111111111111111111110246913578246913578246913578246913578246913578246913578246913578246913578\n",
            "Çarpma Sonucu: 121932631356500531591068431825636331953513179718945279484377379249809479015241578780673678546105778311537878061728399061728399061728399061728399061728399061728399061728399061728399061728399061728399061728399061728399061728399061728399061728399061728399061728399061728399061728399061728399061728399061728399061728399061728398939795767705227867470659967236092067108215219342783119577351019811918920046486820281054720515622620750190521\n",
            "100'ün faktöriyel sonucu: 93326215443944152681699238856266700490715968264381621468592963895217599993229915608941463976156518286253697920827223758251185210916864000000000000000000000000\n"
          ]
        }
      ]
    },
    {
      "cell_type": "code",
      "source": [
        "import gmpy2\n",
        "\n",
        "# Yüksek hassasiyetli bir ondalıklı sayı oluşturma\n",
        "x = gmpy2.mpfr('3.141592653589793238462643383279502884197169399375105820974944')\n",
        "\n",
        "# Sayının karesini alma\n",
        "kare = x ** 2\n",
        "print(\"Pi'nin karesi:\", kare)\n",
        "\n",
        "# Sayının karekökünü alma\n",
        "karekok = gmpy2.sqrt(x)\n",
        "print(\"Pi'nin karekökü:\", karekok)\n"
      ],
      "metadata": {
        "colab": {
          "base_uri": "https://localhost:8080/"
        },
        "id": "Q-Avcj2ezstv",
        "outputId": "0aa01e69-fd24-49b1-bfc6-318d4ad53ae7"
      },
      "execution_count": 6,
      "outputs": [
        {
          "output_type": "stream",
          "name": "stdout",
          "text": [
            "Pi'nin karesi: 9.869604401089358\n",
            "Pi'nin karekökü: 3.5449077018110318\n"
          ]
        }
      ]
    }
  ]
}