{
  "nbformat": 4,
  "nbformat_minor": 0,
  "metadata": {
    "colab": {
      "provenance": []
    },
    "kernelspec": {
      "name": "python3",
      "display_name": "Python 3"
    },
    "language_info": {
      "name": "python"
    }
  },
  "cells": [
    {
      "cell_type": "code",
      "execution_count": 2,
      "metadata": {
        "colab": {
          "base_uri": "https://localhost:8080/"
        },
        "id": "eVlYWQ07xrOx",
        "outputId": "2cac8b30-5f80-42a7-edfc-374b65e269de"
      },
      "outputs": [
        {
          "output_type": "stream",
          "name": "stdout",
          "text": [
            "Requirement already satisfied: gmpy2 in /usr/local/lib/python3.11/dist-packages (2.2.1)\n"
          ]
        }
      ],
      "source": [
        "pip install gmpy2"
      ]
    },
    {
      "cell_type": "code",
      "source": [
        "pip install mpmath"
      ],
      "metadata": {
        "colab": {
          "base_uri": "https://localhost:8080/"
        },
        "id": "3XXrD-ZT0sYQ",
        "outputId": "918dfd41-bd61-46d5-965e-101cf6e13b13"
      },
      "execution_count": 4,
      "outputs": [
        {
          "output_type": "stream",
          "name": "stdout",
          "text": [
            "Requirement already satisfied: mpmath in /usr/local/lib/python3.11/dist-packages (1.3.0)\n"
          ]
        }
      ]
    },
    {
      "cell_type": "code",
      "source": [
        "import gmpy2\n",
        "\n",
        "# Büyük sayılar\n",
        "a = gmpy2.mpz('123456789123456789123456789123456789123456789123456789123456789123456789123456789123456789123456789123456789')\n",
        "b = gmpy2.mpz('987654321987654321987654321123456789123456789123456789123456789123456789123456789123456789123456789123456789')\n",
        "\n",
        "# Toplama, çıkarma, çarpma, bölme işlemleri\n",
        "toplam = a + b\n",
        "fark = a - b\n",
        "carpim = a * b\n",
        "bolme = a // b  # Tam sayı bölme\n",
        "kalan = a % b   # Kalan\n",
        "\n",
        "print(f\"Toplam: {toplam}\")\n",
        "print(f\"Fark: {fark}\")\n",
        "print(f\"Çarpım: {carpim}\")\n",
        "print(f\"Bölme (tam sayı): {bolme}\")\n",
        "print(f\"Kalan: {kalan}\")\n"
      ],
      "metadata": {
        "colab": {
          "base_uri": "https://localhost:8080/"
        },
        "id": "m9QURxSazSW7",
        "outputId": "854f98c7-c03a-4e9f-f337-436e08df2821"
      },
      "execution_count": 9,
      "outputs": [
        {
          "output_type": "stream",
          "name": "stdout",
          "text": [
            "Toplam: 1111111111111111111111111110246913578246913578246913578246913578246913578246913578246913578246913578246913578\n",
            "Fark: -864197532864197532864197532000000000000000000000000000000000000000000000000000000000000000000000000000000000\n",
            "Çarpım: 121932631356500531591068431718945279484377379249809479015241578780673678546105778311537878076969977842402077470659967236092067001524166873647319108215219342783119577351019811918920046486820281054720515622620750190521\n",
            "Bölme (tam sayı): 0\n",
            "Kalan: 123456789123456789123456789123456789123456789123456789123456789123456789123456789123456789123456789123456789\n"
          ]
        }
      ]
    },
    {
      "cell_type": "code",
      "source": [
        "import gmpy2\n",
        "\n",
        "# Kesirli sayılar\n",
        "x = gmpy2.mpq(5, 3)  # 5/3\n",
        "y = gmpy2.mpq(2, 7)  # 2/7\n",
        "\n",
        "# Toplama, çıkarma, çarpma, bölme\n",
        "kesir_toplam = x + y\n",
        "kesir_fark = x - y\n",
        "kesir_carpim = x * y\n",
        "kesir_bolme = x / y\n",
        "\n",
        "print(f\"Kesir Toplamı: {kesir_toplam}\")\n",
        "print(f\"Kesir Farkı: {kesir_fark}\")\n",
        "print(f\"Kesir Çarpımı: {kesir_carpim}\")\n",
        "print(f\"Kesir Bölmesi: {kesir_bolme}\")\n",
        "\n"
      ],
      "metadata": {
        "colab": {
          "base_uri": "https://localhost:8080/"
        },
        "id": "Q-Avcj2ezstv",
        "outputId": "c8603a94-1a7a-4a70-e7c4-717b8c434c39"
      },
      "execution_count": 10,
      "outputs": [
        {
          "output_type": "stream",
          "name": "stdout",
          "text": [
            "Kesir Toplamı: 41/21\n",
            "Kesir Farkı: 29/21\n",
            "Kesir Çarpımı: 10/21\n",
            "Kesir Bölmesi: 35/6\n"
          ]
        }
      ]
    },
    {
      "cell_type": "code",
      "source": [
        "import mpmath\n",
        "\n",
        "# Yüksek hassasiyetli ondalıklı sayılar\n",
        "mpmath.mp.dps = 50  # Ondalık hassasiyet (50 basamağa kadar)\n",
        "\n",
        "a = mpmath.mpf('3.14159265358979323846')\n",
        "b = mpmath.mpf('2.71828182845904523536')\n",
        "\n",
        "# Toplama, çıkarma, çarpma ve bölme işlemleri\n",
        "toplam = a + b\n",
        "fark = a - b\n",
        "carpim = a * b\n",
        "bolme = a / b\n",
        "\n",
        "print(f\"Toplam: {toplam}\")\n",
        "print(f\"Fark: {fark}\")\n",
        "print(f\"Çarpım: {carpim}\")\n",
        "print(f\"Bölme: {bolme}\")"
      ],
      "metadata": {
        "colab": {
          "base_uri": "https://localhost:8080/"
        },
        "id": "kwRrtTuM0goh",
        "outputId": "1aa66ffb-10ec-4534-9fa3-1d7e91bcdbbe"
      },
      "execution_count": 5,
      "outputs": [
        {
          "output_type": "stream",
          "name": "stdout",
          "text": [
            "Toplam: 5.85987448204883847382\n",
            "Fark: 0.4233108251307480031\n",
            "Çarpım: 8.5397342226735670654554622909226073039456\n",
            "Bölme: 1.1557273497909217179092429606644215987461537653429\n"
          ]
        }
      ]
    },
    {
      "cell_type": "code",
      "source": [
        "# Kareköklü hesaplama\n",
        "x = gmpy2.mpz(25)\n",
        "karekok = gmpy2.isqrt(x)  # Tam sayı karekökü\n",
        "print(f\"Kareköklü sayı: {karekok}\")\n"
      ],
      "metadata": {
        "colab": {
          "base_uri": "https://localhost:8080/"
        },
        "id": "akV43Wpu1HVV",
        "outputId": "954f4f40-cbb0-4711-bfd1-795928cf4d44"
      },
      "execution_count": 6,
      "outputs": [
        {
          "output_type": "stream",
          "name": "stdout",
          "text": [
            "Kareköklü sayı: 5\n"
          ]
        }
      ]
    },
    {
      "cell_type": "code",
      "source": [
        "# Logaritma hesaplama\n",
        "x = mpmath.mpf(100)\n",
        "log10 = mpmath.log(x, 10)  # 10 tabanında logaritma\n",
        "log2 = mpmath.log(x, 2)    # 2 tabanında logaritma\n",
        "print(f\"Logaritma (10 tabanında): {log10}\")\n",
        "print(f\"Logaritma (2 tabanında): {log2}\")\n",
        "\n",
        "# Üst hesaplama\n",
        "a = gmpy2.mpz(2)\n",
        "b = gmpy2.mpz(10)\n",
        "ust = gmpy2.powmod(a, b, 1000000)  # (a^b) % 1000000\n",
        "print(f\"Üst hesaplama (2^10 mod 1000000): {ust}\")\n"
      ],
      "metadata": {
        "colab": {
          "base_uri": "https://localhost:8080/"
        },
        "id": "Hj7An5OR1Nv1",
        "outputId": "25170927-8aec-47bf-88c1-e56fb78d4c8e"
      },
      "execution_count": 14,
      "outputs": [
        {
          "output_type": "stream",
          "name": "stdout",
          "text": [
            "Logaritma (10 tabanında): 2.0\n",
            "Logaritma (2 tabanında): 6.6438561897747246957406388589787803517296627860492\n",
            "Üst hesaplama (2^10 mod 1000000): 1024\n"
          ]
        }
      ]
    },
    {
      "cell_type": "code",
      "source": [
        "# Faktöriyel hesaplama\n",
        "x = gmpy2.mpz(10)\n",
        "faktoriyel = gmpy2.fac(x)\n",
        "print(f\"Faktöriyel (10!): {faktoriyel}\")\n"
      ],
      "metadata": {
        "colab": {
          "base_uri": "https://localhost:8080/"
        },
        "id": "drcyErWm1gB5",
        "outputId": "2ab7d161-7e2b-42d3-e6b2-b03fe7132073"
      },
      "execution_count": 15,
      "outputs": [
        {
          "output_type": "stream",
          "name": "stdout",
          "text": [
            "Faktöriyel (10!): 3628800\n"
          ]
        }
      ]
    },
    {
      "cell_type": "code",
      "source": [
        "# Asal sayı kontrolü\n",
        "x = gmpy2.mpz(29)\n",
        "asal_mi = gmpy2.is_prime(x)\n",
        "print(f\"29 asal mı? {asal_mi}\")\n"
      ],
      "metadata": {
        "colab": {
          "base_uri": "https://localhost:8080/"
        },
        "id": "dsHxxCH41hme",
        "outputId": "0465f03f-f39b-4822-d10c-7658981398c5"
      },
      "execution_count": 16,
      "outputs": [
        {
          "output_type": "stream",
          "name": "stdout",
          "text": [
            "29 asal mı? True\n"
          ]
        }
      ]
    },
    {
      "cell_type": "code",
      "source": [
        "# Karşılaştırmalar\n",
        "a = gmpy2.mpz(100)\n",
        "b = gmpy2.mpz(50)\n",
        "\n",
        "# Eşitlik\n",
        "print(f\"a == b: {a == b}\")\n",
        "\n",
        "# Küçüktür\n",
        "print(f\"a < b: {a < b}\")\n",
        "\n",
        "# Büyüktür\n",
        "print(f\"a > b: {a > b}\")\n",
        "\n",
        "# Küçük eşittir\n",
        "print(f\"a <= b: {a <= b}\")\n",
        "\n",
        "# Büyük eşittir\n",
        "print(f\"a >= b: {a >= b}\")\n"
      ],
      "metadata": {
        "colab": {
          "base_uri": "https://localhost:8080/"
        },
        "id": "etpemFnY1k0y",
        "outputId": "166bbc2f-9cd1-493e-93f0-4e42d26bd69c"
      },
      "execution_count": 17,
      "outputs": [
        {
          "output_type": "stream",
          "name": "stdout",
          "text": [
            "a == b: False\n",
            "a < b: False\n",
            "a > b: True\n",
            "a <= b: False\n",
            "a >= b: True\n"
          ]
        }
      ]
    },
    {
      "cell_type": "code",
      "source": [
        "# Fibonacci sayıları\n",
        "fibonacci = gmpy2.fib(10)\n",
        "print(f\"Fibonacci (10. sayı): {fibonacci}\")\n"
      ],
      "metadata": {
        "colab": {
          "base_uri": "https://localhost:8080/"
        },
        "id": "pDTecTPI1obH",
        "outputId": "2bbab755-81be-4acc-c995-a9104e623bfb"
      },
      "execution_count": 18,
      "outputs": [
        {
          "output_type": "stream",
          "name": "stdout",
          "text": [
            "Fibonacci (10. sayı): 55\n"
          ]
        }
      ]
    },
    {
      "cell_type": "code",
      "source": [
        "# Modüler aritmetik\n",
        "a = gmpy2.mpz(17)\n",
        "b = gmpy2.mpz(5)\n",
        "mod = gmpy2.f_mod(a, b)  # a mod b\n",
        "print(f\"17 mod 5: {mod}\")\n"
      ],
      "metadata": {
        "colab": {
          "base_uri": "https://localhost:8080/"
        },
        "id": "NUCGfjW-1q-V",
        "outputId": "85964524-54e2-4b74-e12a-86a1824c4bb3"
      },
      "execution_count": 19,
      "outputs": [
        {
          "output_type": "stream",
          "name": "stdout",
          "text": [
            "17 mod 5: 2\n"
          ]
        }
      ]
    },
    {
      "cell_type": "code",
      "source": [
        "import gmpy2\n",
        "import time\n",
        "\n",
        "# Yüksek hassasiyetli zaman ölçümü (mpfr kullanarak)\n",
        "start_time = gmpy2.mpfr(time.perf_counter())  # Başlangıç zamanı\n",
        "\n",
        "# Hedef süre 10 saniye\n",
        "target_duration = gmpy2.mpfr(10)\n",
        "\n",
        "# 10 saniye boyunca sayma işlemi\n",
        "elapsed_time = gmpy2.mpfr(0)  # Başlangıçta 0 saniye\n",
        "\n",
        "while elapsed_time < target_duration:\n",
        "    # Her döngüde geçerli zamanı güncelle\n",
        "    current_time = gmpy2.mpfr(time.perf_counter())\n",
        "    elapsed_time = current_time - start_time  # Geçen süreyi hesapla\n",
        "\n",
        "# Sonuç: 10 saniyeyi geçti\n",
        "print(f\"Geçen süre: {elapsed_time} saniye\")\n",
        "\n",
        "# İstenilen 10 saniyeye ulaşıldığında mesaj ver\n",
        "if elapsed_time >= target_duration:\n",
        "    print(\"10 saniye tamamlandı!\")\n"
      ],
      "metadata": {
        "colab": {
          "base_uri": "https://localhost:8080/"
        },
        "id": "aCwVy7V-2Ek9",
        "outputId": "49c47587-f597-45d0-a5d8-87fc7372a34f"
      },
      "execution_count": 57,
      "outputs": [
        {
          "output_type": "stream",
          "name": "stdout",
          "text": [
            "Geçen süre: 10.000001 saniye\n",
            "10 saniye tamamlandı!\n"
          ]
        }
      ]
    }
  ]
}